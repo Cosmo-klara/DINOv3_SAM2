{
 "cells": [
  {
   "cell_type": "code",
   "execution_count": 1,
   "id": "c7fe278d",
   "metadata": {},
   "outputs": [
    {
     "name": "stderr",
     "output_type": "stream",
     "text": [
      "FutureWarning: Importing from timm.models.layers is deprecated, please import via timm.layers\n"
     ]
    }
   ],
   "source": [
    "import cv2\n",
    "import numpy as np\n",
    "import supervision as sv\n",
    "import torch\n",
    "import torchvision\n",
    "from groundingdino.util.inference import Model\n",
    "from segment_anything import sam_model_registry, SamPredictor"
   ]
  },
  {
   "cell_type": "markdown",
   "id": "e63a19a9",
   "metadata": {},
   "source": [
    "### 下载必需的库\n",
    "\n",
    "```bash\n",
    "git clone https://github.com/IDEA-Research/GroundingDINO.git\n",
    "pip install --no-build-isolation -e GroundingDINO\n",
    "pip install supervision==0.21.0\n",
    "```"
   ]
  },
  {
   "cell_type": "markdown",
   "id": "ee8d5d54",
   "metadata": {},
   "source": [
    "### 下载权重\n",
    "\n",
    "```bash\n",
    "cd Grounded-Segment-Anything\n",
    "\n",
    "wget https://dl.fbaipublicfiles.com/segment_anything/sam_vit_h_4b8939.pth\n",
    "wget https://github.com/IDEA-Research/GroundingDINO/releases/download/v0.1.0-alpha/groundingdino_swint_ogc.pth\n",
    "```"
   ]
  },
  {
   "cell_type": "code",
   "execution_count": 2,
   "id": "00c2cbbf",
   "metadata": {},
   "outputs": [
    {
     "name": "stderr",
     "output_type": "stream",
     "text": [
      "UserWarning: torch.meshgrid: in an upcoming release, it will be required to pass the indexing argument. (Triggered internally at C:\\actions-runner\\_work\\pytorch\\pytorch\\builder\\windows\\pytorch\\aten\\src\\ATen\\native\\TensorShape.cpp:3596.)\n"
     ]
    },
    {
     "name": "stdout",
     "output_type": "stream",
     "text": [
      "final text_encoder_type: bert-base-uncased\n"
     ]
    },
    {
     "name": "stderr",
     "output_type": "stream",
     "text": [
      "FutureWarning: You are using `torch.load` with `weights_only=False` (the current default value), which uses the default pickle module implicitly. It is possible to construct malicious pickle data which will execute arbitrary code during unpickling (See https://github.com/pytorch/pytorch/blob/main/SECURITY.md#untrusted-models for more details). In a future release, the default value for `weights_only` will be flipped to `True`. This limits the functions that could be executed during unpickling. Arbitrary objects will no longer be allowed to be loaded via this mode unless they are explicitly allowlisted by the user via `torch.serialization.add_safe_globals`. We recommend you start setting `weights_only=True` for any use case where you don't have full control of the loaded file. Please open an issue on GitHub for any issues related to this experimental feature.\n",
      "FutureWarning: You are using `torch.load` with `weights_only=False` (the current default value), which uses the default pickle module implicitly. It is possible to construct malicious pickle data which will execute arbitrary code during unpickling (See https://github.com/pytorch/pytorch/blob/main/SECURITY.md#untrusted-models for more details). In a future release, the default value for `weights_only` will be flipped to `True`. This limits the functions that could be executed during unpickling. Arbitrary objects will no longer be allowed to be loaded via this mode unless they are explicitly allowlisted by the user via `torch.serialization.add_safe_globals`. We recommend you start setting `weights_only=True` for any use case where you don't have full control of the loaded file. Please open an issue on GitHub for any issues related to this experimental feature.\n"
     ]
    }
   ],
   "source": [
    "DEVICE = torch.device('cuda' if torch.cuda.is_available() else 'cpu')\n",
    "\n",
    "GROUNDING_DINO_CONFIG_PATH = \"./config/GroundingDINO_SwinT_OGC.py\"\n",
    "GROUNDING_DINO_CHECKPOINT_PATH = \"./models/groundingdino_swint_ogc.pth\"\n",
    "\n",
    "SAM_ENCODER_VERSION = \"vit_h\"\n",
    "SAM_CHECKPOINT_PATH = \"./models/sam_vit_h_4b8939.pth\"\n",
    "\n",
    "grounding_dino_model = Model(model_config_path=GROUNDING_DINO_CONFIG_PATH, model_checkpoint_path=GROUNDING_DINO_CHECKPOINT_PATH)\n",
    "\n",
    "sam = sam_model_registry[SAM_ENCODER_VERSION](checkpoint=SAM_CHECKPOINT_PATH)\n",
    "sam.to(device=DEVICE)\n",
    "sam_predictor = SamPredictor(sam)"
   ]
  },
  {
   "cell_type": "code",
   "execution_count": 3,
   "id": "00713a7c",
   "metadata": {},
   "outputs": [],
   "source": [
    "SOURCE_IMAGE_PATH = \"./img/test1.png\""
   ]
  },
  {
   "cell_type": "code",
   "execution_count": 4,
   "id": "c5daca08",
   "metadata": {},
   "outputs": [],
   "source": [
    "# 语言嵌入\n",
    "CLASSES = [\"white plate\"]"
   ]
  },
  {
   "cell_type": "code",
   "execution_count": 5,
   "id": "cc3b5aa9",
   "metadata": {},
   "outputs": [],
   "source": [
    "BOX_THRESHOLD = 0.25    # 边界框置信度阈值\n",
    "TEXT_THRESHOLD = 0.25   # 文本匹配置信度阈值\n",
    "NMS_THRESHOLD = 0.8     # 非极大值抑制阈值"
   ]
  },
  {
   "cell_type": "code",
   "execution_count": 6,
   "id": "8bf4f9f3",
   "metadata": {},
   "outputs": [
    {
     "name": "stderr",
     "output_type": "stream",
     "text": [
      "FutureWarning: The `device` argument is deprecated and will be removed in v5 of Transformers.\n",
      "UserWarning: torch.utils.checkpoint: the use_reentrant parameter should be passed explicitly. In version 2.5 we will raise an exception if use_reentrant is not passed. use_reentrant=False is recommended, but if you need to preserve the current default behavior, you can pass use_reentrant=True. Refer to docs for more details on the differences between the two variants.\n",
      "UserWarning: None of the inputs have requires_grad=True. Gradients will be None\n",
      "FutureWarning: `torch.cuda.amp.autocast(args...)` is deprecated. Please use `torch.amp.autocast('cuda', args...)` instead.\n"
     ]
    }
   ],
   "source": [
    "image = cv2.imread(SOURCE_IMAGE_PATH)\n",
    "\n",
    "detections = grounding_dino_model.predict_with_classes(\n",
    "    image=image,\n",
    "    classes=CLASSES,\n",
    "    box_threshold=BOX_THRESHOLD,\n",
    "    text_threshold=TEXT_THRESHOLD\n",
    ")"
   ]
  },
  {
   "cell_type": "code",
   "execution_count": null,
   "id": "1f13bf3c",
   "metadata": {},
   "outputs": [
    {
     "name": "stderr",
     "output_type": "stream",
     "text": [
      "SupervisionWarnings: annotate is deprecated: `BoxAnnotator` is deprecated and will be removed in `supervision-0.22.0`. Use `BoundingBoxAnnotator` and `LabelAnnotator` instead\n"
     ]
    },
    {
     "data": {
      "text/plain": [
       "True"
      ]
     },
     "execution_count": 7,
     "metadata": {},
     "output_type": "execute_result"
    }
   ],
   "source": [
    "# 边界检测标注器\n",
    "box_annotator = sv.BoxAnnotator()\n",
    "labels = [\n",
    "    f\"{CLASSES[class_id]} {confidence:0.2f}\"\n",
    "    for _, _, confidence, class_id, _, _\n",
    "    in detections]\n",
    "annotated_frame = box_annotator.annotate(scene=image.copy(), detections=detections, labels=labels)\n",
    "\n",
    "# 保存标注后的图片\n",
    "cv2.imwrite(\"result/groundingdino_annotated_image.jpg\", annotated_frame)"
   ]
  },
  {
   "cell_type": "code",
   "execution_count": 8,
   "metadata": {},
   "outputs": [
    {
     "name": "stdout",
     "output_type": "stream",
     "text": [
      "Before NMS: 1 boxes\n",
      "After NMS: 1 boxes\n"
     ]
    }
   ],
   "source": [
    "print(f\"Before NMS: {len(detections.xyxy)} boxes\")\n",
    "nms_idx = torchvision.ops.nms(\n",
    "    torch.from_numpy(detections.xyxy), \n",
    "    torch.from_numpy(detections.confidence), \n",
    "    NMS_THRESHOLD\n",
    ").numpy().tolist()\n",
    "\n",
    "# 过滤重复检测\n",
    "detections.xyxy = detections.xyxy[nms_idx]\n",
    "detections.confidence = detections.confidence[nms_idx]\n",
    "detections.class_id = detections.class_id[nms_idx]\n",
    "\n",
    "print(f\"After NMS: {len(detections.xyxy)} boxes\")"
   ]
  },
  {
   "cell_type": "code",
   "execution_count": 9,
   "id": "7612a03e",
   "metadata": {},
   "outputs": [],
   "source": [
    "# 调用sam进行分割\n",
    "def segment(sam_predictor: SamPredictor, image: np.ndarray, xyxy: np.ndarray) -> np.ndarray:\n",
    "    sam_predictor.set_image(image)\n",
    "    result_masks = []\n",
    "    for box in xyxy:\n",
    "        masks, scores, logits = sam_predictor.predict(\n",
    "            box=box,\n",
    "            multimask_output=True\n",
    "        )\n",
    "        # 需要注意的点，生成的结果并不一定是置信度高到低排列的\n",
    "        # 因此需要根据scores选择置信度最高的mask\n",
    "        index = np.argmax(scores)\n",
    "        result_masks.append(masks[index])\n",
    "    return np.array(result_masks)"
   ]
  },
  {
   "cell_type": "code",
   "execution_count": null,
   "id": "59e5b824",
   "metadata": {},
   "outputs": [
    {
     "name": "stderr",
     "output_type": "stream",
     "text": [
      "SupervisionWarnings: annotate is deprecated: `BoxAnnotator` is deprecated and will be removed in `supervision-0.22.0`. Use `BoundingBoxAnnotator` and `LabelAnnotator` instead\n"
     ]
    },
    {
     "data": {
      "text/plain": [
       "True"
      ]
     },
     "execution_count": 10,
     "metadata": {},
     "output_type": "execute_result"
    }
   ],
   "source": [
    "# 将检测框转为mask\n",
    "detections.mask = segment(\n",
    "    sam_predictor=sam_predictor,\n",
    "    image=cv2.cvtColor(image, cv2.COLOR_BGR2RGB),\n",
    "    xyxy=detections.xyxy\n",
    ")\n",
    "\n",
    "# 创建box和mask的标注器\n",
    "box_annotator = sv.BoxAnnotator()\n",
    "mask_annotator = sv.MaskAnnotator()\n",
    "labels = [\n",
    "    f\"{CLASSES[class_id]} {confidence:0.2f}\"\n",
    "    for _, _, confidence, class_id, _, _\n",
    "    in detections]\n",
    "annotated_image = mask_annotator.annotate(scene=image.copy(), detections=detections)\n",
    "annotated_image = box_annotator.annotate(scene=annotated_image, detections=detections, labels=labels)\n",
    "\n",
    "cv2.imwrite(\"result/grounded_sam_annotated_image.jpg\", annotated_image)"
   ]
  }
 ],
 "metadata": {
  "kernelspec": {
   "display_name": "dinov3",
   "language": "python",
   "name": "python3"
  },
  "language_info": {
   "codemirror_mode": {
    "name": "ipython",
    "version": 3
   },
   "file_extension": ".py",
   "mimetype": "text/x-python",
   "name": "python",
   "nbconvert_exporter": "python",
   "pygments_lexer": "ipython3",
   "version": "3.11.13"
  }
 },
 "nbformat": 4,
 "nbformat_minor": 5
}
