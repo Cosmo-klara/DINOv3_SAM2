{
 "cells": [
  {
   "cell_type": "code",
   "execution_count": null,
   "id": "0b2df6f5",
   "metadata": {},
   "outputs": [],
   "source": [
    "import matplotlib.pyplot as plt\n",
    "import numpy as np\n",
    "from PIL import Image\n",
    "import torch\n",
    "\n",
    "def show_anns(anns, borders=True):\n",
    "    if len(anns) == 0:\n",
    "        return\n",
    "    sorted_anns = sorted(anns, key=(lambda x: x['area']), reverse=True)\n",
    "    ax = plt.gca()\n",
    "    ax.set_autoscale_on(False)\n",
    "\n",
    "    img = np.ones((sorted_anns[0]['segmentation'].shape[0], sorted_anns[0]['segmentation'].shape[1], 4))\n",
    "    img[:, :, 3] = 0\n",
    "    for ann in sorted_anns:\n",
    "        m = ann['segmentation']\n",
    "        color_mask = np.concatenate([np.random.random(3), [0.5]])\n",
    "        img[m] = color_mask\n",
    "        if borders:\n",
    "            import cv2\n",
    "            contours, _ = cv2.findContours(m.astype(np.uint8), cv2.RETR_EXTERNAL, cv2.CHAIN_APPROX_NONE)\n",
    "            # Try to smooth contours\n",
    "            contours = [cv2.approxPolyDP(contour, epsilon=0.01, closed=True) for contour in contours]\n",
    "            cv2.drawContours(img, contours, -1, (0, 0, 1, 0.4), thickness=1)\n",
    "\n",
    "    ax.imshow(img)\n",
    "\n",
    "from sam2.build_sam import build_sam2\n",
    "from sam2.automatic_mask_generator import SAM2AutomaticMaskGenerator\n",
    "\n",
    "image = Image.open('./img/test.png')\n",
    "image = np.array(image.convert(\"RGB\"))\n",
    "\n",
    "sam2_1_checkpoint = \"./models/sam2/sam2.1_hiera_base_plus.pt\"\n",
    "model_cfg_1 = \"configs/sam2.1/sam2.1_hiera_b+.yaml\"\n",
    "\n",
    "sam2_1 = build_sam2(model_cfg_1, sam2_1_checkpoint, device=torch.device(\"cuda\"), apply_postprocessing=False)\n",
    "\n",
    "\n",
    "mask_generator_1 = SAM2AutomaticMaskGenerator(\n",
    "    model=sam2_1,\n",
    "    use_m2m=False,\n",
    "    )"
   ]
  },
  {
   "cell_type": "code",
   "execution_count": null,
   "id": "bb2dedb3",
   "metadata": {},
   "outputs": [],
   "source": [
    "masks_sam2_1 = mask_generator_1.generate(image)"
   ]
  },
  {
   "cell_type": "code",
   "execution_count": null,
   "id": "b24e4a3f",
   "metadata": {},
   "outputs": [],
   "source": [
    "np.random.seed(3)\n",
    "fig, axes = plt.subplots(1, 3, figsize=(24, 8))\n",
    "\n",
    "# 原始图像\n",
    "axes[0].imshow(image)\n",
    "axes[0].set_title(\"Original Image\")\n",
    "axes[0].axis('off')\n",
    "\n",
    "# SAM2.1 结果\n",
    "np.random.seed(3)\n",
    "axes[2].imshow(image)\n",
    "plt.sca(axes[2])\n",
    "show_anns(masks_sam2_1, borders=True)\n",
    "axes[2].set_title(f\"SAM2.1 result: \\n mask_num = {len(masks_sam2_1)}\")\n",
    "axes[2].axis('off')\n",
    "\n",
    "plt.tight_layout()\n",
    "plt.show()"
   ]
  }
 ],
 "metadata": {
  "language_info": {
   "name": "python"
  }
 },
 "nbformat": 4,
 "nbformat_minor": 5
}
